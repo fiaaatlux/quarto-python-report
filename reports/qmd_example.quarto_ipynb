{
  "cells": [
    {
      "cell_type": "markdown",
      "metadata": {},
      "source": [
        "---\n",
        "title: \"DSCI 310: Historical Horse Population in Canada\"\n",
        "author: \"Tiffany Timbers & Jordan Bourak\"\n",
        "format: \n",
        "    html:\n",
        "        toc: true\n",
        "        toc-depth: 2\n",
        "    pdf:\n",
        "        toc: true\n",
        "        toc-depth: 2\n",
        "        fig-pos: H\n",
        "editor: source\n",
        "bibliography: references.bib\n",
        "execute:\n",
        "    echo: false\n",
        "    warning: false\n",
        "---"
      ],
      "id": "73060c6f"
    },
    {
      "cell_type": "code",
      "metadata": {},
      "source": [
        "import pandas as pd\n",
        "from IPython.display import Markdown, display\n",
        "from tabulate import tabulate"
      ],
      "id": "48430b28",
      "execution_count": null,
      "outputs": []
    },
    {
      "cell_type": "markdown",
      "metadata": {},
      "source": [
        "## Aim\n",
        "\n",
        "This project explores the historical population of horses in Canada \n",
        "between 1906 and 1972 for each province.\n",
        "\n",
        "## Data\n",
        "\n",
        "Horse population data were sourced from the \n",
        "[Government of Canada's Open Data website](http://open.canada.ca/en/open-data) \n",
        "(Government of Canada, 2017a and Government of Canada, 2017b).\n",
        "\n",
        "## Methods\n",
        "\n",
        "The Python programming language [@Python]\n",
        "and the following Python packages were used to perform the analysis: \n",
        "pandas [@pandas], altair [@altair], click [@click], \n",
        "as well as Quarto [@Allaire_Quarto_2022]. \n",
        "*Note: this report is adapted from @ttimbers-horses.* \n",
        "\n",
        "## Results\n",
        "\n",
        "![Horse populations for all provinces in Canada from 1906 - 1972.](../results/horse_pops_plot.png){#fig-horse_pops_plot width=80%}\n",
        "\n",
        "We can see from @fig-horse_pops_plot that Ontario, Saskatchewan and Alberta \n",
        "have had the highest horse populations in Canada. \n",
        "All provinces have had a decline in horse populations since 1940. \n",
        "This is likely due to the rebound of the Canadian automotive industry \n",
        "after the Great Depression and the Second World War. \n",
        "An interesting follow-up visualisation would be car sales per year \n",
        "for each Province over the time period visualised above \n",
        "to further support this hypothesis.\n",
        "\n",
        "Suppose we were interested in looking in more closely at the province \n",
        "with the highest spread (in terms of standard deviation) of horse populations. \n",
        "We present the standard deviations in @tbl-horses_sd.\n"
      ],
      "id": "c8cc6cbb"
    },
    {
      "cell_type": "code",
      "metadata": {},
      "source": [
        "#| label: tbl-horses_sd\n",
        "#| tbl-cap: Standard deviation of historical (1906-1972) horse populations for each Canadian province.\n",
        "\n",
        "horses_sd_table = pd.read_csv(\"../results/horses_sd.csv\")\n",
        "largest_sd = horses_sd_table['Province'].values[0]\n",
        "Markdown(horses_sd_table.to_markdown(index = False))"
      ],
      "id": "tbl-horses_sd",
      "execution_count": null,
      "outputs": []
    },
    {
      "cell_type": "markdown",
      "metadata": {},
      "source": [
        "Note that we define standard deviation (of a sample) as\n",
        "\n",
        "$$s = \\sqrt{\\frac{\\sum_{i=1}^N (x_i - \\overline{x})^2}{N-1} }$$\n",
        "\n",
        "Additionally, note that in @tbl-horses_sd we consider the sample standard deviation of the number of horses during the same time span as @fig-horse_pops_plot.\n",
        "\n",
        "![Horse populations for the province with the largest standard deviation](../results/horse_pops_plot_largest_sd.png){#fig-horse_pops_plot_largest_sd width=65%}\n",
        "\n",
        "In @fig-horse_pops_plot_largest_sd we zoom in and look at the province of `{python} largest_sd`, which had the largest spread of values in terms of standard deviation.\n",
        "\n",
        "## References"
      ],
      "id": "7f628bed"
    }
  ],
  "metadata": {
    "kernelspec": {
      "name": "python3",
      "language": "python",
      "display_name": "Python 3 (ipykernel)",
      "path": "/Users/fiatlux/miniforge3/share/jupyter/kernels/python3"
    }
  },
  "nbformat": 4,
  "nbformat_minor": 5
}